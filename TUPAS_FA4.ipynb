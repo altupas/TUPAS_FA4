{
 "cells": [
  {
   "cell_type": "markdown",
   "id": "a147cae1",
   "metadata": {},
   "source": [
    "1. Write a Python program to print the even numbers from a given list.\n",
    "\n",
    "List: [1, 2, 3, 4, 5, 6, 7, 8, 9, 10, 11, 13, 15, 17, 19, 24, 26, 28, 30, 32]"
   ]
  },
  {
   "cell_type": "code",
   "execution_count": 2,
   "id": "f8825a20",
   "metadata": {},
   "outputs": [
    {
     "name": "stdout",
     "output_type": "stream",
     "text": [
      "2\n",
      "4\n",
      "6\n",
      "8\n",
      "10\n",
      "24\n",
      "26\n",
      "28\n",
      "30\n",
      "32\n"
     ]
    }
   ],
   "source": [
    "numbers = [1,2,3,4,5,6,7,8,9,10,11,13,15,17,19,24,26,28,30,32]\n",
    "\n",
    "for num in numbers:\n",
    "    if num % 2 == 0:\n",
    "        print(num)"
   ]
  },
  {
   "cell_type": "markdown",
   "id": "22e15e77",
   "metadata": {},
   "source": [
    "2. Generate a Python list of all the even numbers between 10 to 60."
   ]
  },
  {
   "cell_type": "code",
   "execution_count": 3,
   "id": "9ef558fd",
   "metadata": {},
   "outputs": [
    {
     "name": "stdout",
     "output_type": "stream",
     "text": [
      "[10, 12, 14, 16, 18, 20, 22, 24, 26, 28, 30, 32, 34, 36, 38, 40, 42, 44, 46, 48, 50, 52, 54, 56, 58, 60]\n"
     ]
    }
   ],
   "source": [
    "even_numbers = [num for num in range(10,61) if num % 2 == 0]\n",
    "\n",
    "print(even_numbers)"
   ]
  },
  {
   "cell_type": "markdown",
   "id": "732cc036",
   "metadata": {},
   "source": [
    "3. Write a program to create a function show_feu_professor() using the following conditions:\n",
    "\n",
    "It should accept the professor’s name and salary and display both.\n",
    "If the salary is missing in the function call then assign default value 70000 to salary.\n",
    "\n",
    "     Expected output: Display of at least 5 FEU professors with their salaries.\n",
    "\n",
    " \n",
    "\n"
   ]
  },
  {
   "cell_type": "code",
   "execution_count": 7,
   "id": "2c47caf8",
   "metadata": {},
   "outputs": [
    {
     "name": "stdout",
     "output_type": "stream",
     "text": [
      "Professor:  Normita Cobarrubias\n",
      "Salary:  95000\n",
      "Professor:  Frederick Gella\n",
      "Salary:  85000\n",
      "Professor:  Jeffrey Alvarina\n",
      "Salary:  90000\n",
      "Professor:  Maria Mariano\n",
      "Salary:  7000\n",
      "Professor:  Leylani Samson\n",
      "Salary:  80000\n"
     ]
    }
   ],
   "source": [
    "def feu_professors(name, salary=7000):\n",
    "    print(\"Professor: \", name)\n",
    "    print(\"Salary: \", salary)\n",
    "\n",
    "feu_professors(\"Normita Cobarrubias\", 95000)\n",
    "feu_professors(\"Frederick Gella\", 85000)\n",
    "feu_professors(\"Jeffrey Alvarina\", 90000)\n",
    "feu_professors(\"Maria Mariano\")\n",
    "feu_professors(\"Leylani Samson\", 80000)"
   ]
  },
  {
   "cell_type": "code",
   "execution_count": null,
   "id": "126dc305",
   "metadata": {},
   "outputs": [],
   "source": []
  }
 ],
 "metadata": {
  "kernelspec": {
   "display_name": "Python 3 (ipykernel)",
   "language": "python",
   "name": "python3"
  },
  "language_info": {
   "codemirror_mode": {
    "name": "ipython",
    "version": 3
   },
   "file_extension": ".py",
   "mimetype": "text/x-python",
   "name": "python",
   "nbconvert_exporter": "python",
   "pygments_lexer": "ipython3",
   "version": "3.11.5"
  }
 },
 "nbformat": 4,
 "nbformat_minor": 5
}
